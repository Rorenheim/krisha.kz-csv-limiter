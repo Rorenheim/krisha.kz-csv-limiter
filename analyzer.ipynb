{
 "cells": [
  {
   "cell_type": "code",
   "execution_count": null,
   "outputs": [],
   "source": [
    "import pandas as pd\n",
    "import matplotlib.pyplot as plt\n",
    "\n",
    "from db.service import con"
   ],
   "metadata": {
    "collapsed": false
   },
   "id": "d05b4298cb99ce2a"
  },
  {
   "cell_type": "markdown",
   "source": [
    "***\n",
    "## СВОДНАЯ ТАБЛИЦА"
   ],
   "metadata": {
    "collapsed": false
   },
   "id": "3f78d9d506c82e6c"
  },
  {
   "cell_type": "code",
   "execution_count": null,
   "outputs": [],
   "source": [
    "start_date = '2023-06-01'\n",
    "end_date = '2023-07-03'\n",
    "\n",
    "\n",
    "query = f\"\"\"\n",
    "SELECT flat_id, flats.url, date, price\n",
    "FROM prices\n",
    "LEFT JOIN flats ON flats.id = prices.flat_id\n",
    "WHERE date BETWEEN '{start_date}' AND '{end_date}'\n",
    "\"\"\"\n",
    "\n",
    "df = pd.read_sql_query(query, con)\n",
    "pivot_df = df.pivot_table(index=['flat_id', 'url'], columns='date', values='price', aggfunc='first')\n",
    "pivot_df.reset_index(inplace=True)\n",
    "pivot_df.columns.name = None\n",
    "\n",
    "pivot_df\n"
   ],
   "metadata": {
    "collapsed": false
   },
   "id": "fee37a75cd2c16f"
  },
  {
   "cell_type": "markdown",
   "source": [
    "***\n",
    "## ДИНАМИКА ЦЕН НА КОНКРЕТНУЮ КВАРТИРУ"
   ],
   "metadata": {
    "collapsed": false
   },
   "id": "41bd995de3b7b064"
  },
  {
   "cell_type": "code",
   "execution_count": null,
   "outputs": [],
   "source": [
    "# Указать flat_id для интересующей квартиры.\n",
    "flat_id = 27214297\n",
    "\n",
    "flat_data = pivot_df[pivot_df['flat_id'] == flat_id]\n",
    "dates = flat_data.columns[2:]\n",
    "prices = flat_data.iloc[0, 2:]\n",
    "\n",
    "# Создать график\n",
    "plt.plot(dates, prices)\n",
    "\n",
    "# Настройка осей и заголовка графика\n",
    "plt.xlabel('Дата')\n",
    "plt.ylabel('Цена')\n",
    "plt.title(f\"Динамика цен для квартиры с ID: {flat_id}\")\n",
    "\n",
    "# Отображение графика\n",
    "plt.show()"
   ],
   "metadata": {
    "collapsed": false
   },
   "id": "a7c50fd787472827"
  },
  {
   "cell_type": "markdown",
   "source": [
    "***\n",
    "## ДИНАМИКА СРЕДНЕЙ ЦЕНЫ ДЛЯ ВСЕЙ ВЫБОРКИ"
   ],
   "metadata": {
    "collapsed": false
   },
   "id": "496b26ee178eab10"
  },
  {
   "cell_type": "code",
   "execution_count": null,
   "outputs": [],
   "source": [
    "average_prices = pivot_df.drop(['flat_id', 'url'], axis=1).mean()\n",
    "\n",
    "# Создать график\n",
    "plt.plot(average_prices.index, average_prices.values)\n",
    "\n",
    "# Настройка осей и заголовка графика\n",
    "plt.xlabel('Дата')\n",
    "plt.ylabel('Средняя цена')\n",
    "plt.title('Динамика средней цены')\n",
    "\n",
    "# Отобразить график\n",
    "plt.show()"
   ],
   "metadata": {
    "collapsed": false
   },
   "id": "5e8e14bb2fd1948f"
  },
  {
   "cell_type": "code",
   "execution_count": null,
   "outputs": [],
   "source": [
    "# TODO: Добавить кол-во квартир по цене. С разницей в день. Суточная динамика.\n",
    "# TODO: График кол-ва квартир по цене и по дням.\n",
    "\n",
    "# TODO: Кол-во. Новых квартир за сутки.\n",
    "# TODO: Минус кол-во тех у которых цена стала NaN."
   ],
   "metadata": {
    "collapsed": false
   },
   "id": "40a88533b2a9a99"
  }
 ],
 "metadata": {
  "kernelspec": {
   "display_name": "Python 3",
   "language": "python",
   "name": "python3"
  },
  "language_info": {
   "codemirror_mode": {
    "name": "ipython",
    "version": 2
   },
   "file_extension": ".py",
   "mimetype": "text/x-python",
   "name": "python",
   "nbconvert_exporter": "python",
   "pygments_lexer": "ipython2",
   "version": "2.7.6"
  }
 },
 "nbformat": 4,
 "nbformat_minor": 5
}
